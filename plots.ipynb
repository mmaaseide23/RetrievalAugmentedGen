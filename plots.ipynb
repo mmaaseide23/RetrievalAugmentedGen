{
 "cells": [
  {
   "cell_type": "code",
   "execution_count": null,
   "id": "912c3e2e-b7dd-40e6-81a0-b01c63a806a5",
   "metadata": {},
   "outputs": [],
   "source": [
    "import matplotlib.pyplot as plt\n",
    "import seaborn as sns\n",
    "import pandas as pd"
   ]
  },
  {
   "cell_type": "markdown",
   "id": "56337532-ea1a-4285-b407-10838c339e02",
   "metadata": {},
   "source": [
    "# CHROMA PLOT"
   ]
  },
  {
   "cell_type": "code",
   "execution_count": null,
   "id": "35c84745-18dc-4564-8939-deb8a8fa3f34",
   "metadata": {},
   "outputs": [],
   "source": [
    "chroma_df = pd.read_csv(\"chroma_performance.csv\")\n",
    "chroma_df['database'] = 'Chroma'"
   ]
  },
  {
   "cell_type": "code",
   "execution_count": null,
   "id": "e6b76b11-797e-4c53-ae2d-2fe0a23b313d",
   "metadata": {},
   "outputs": [],
   "source": [
    "# enabling grid\n",
    "sns.set_style(\"whitegrid\")\n",
    "\n",
    "# making plt figure object\n",
    "fig, (ax1, ax2) = plt.subplots(1,2, figsize=(10, 5))\n",
    "\n",
    "plt.subplots_adjust(wspace=.7)\n",
    "# speed subplot\n",
    "for embedder in chroma_df[\"embedder\"].unique():\n",
    "    subset = chroma_df[chroma_df[\"embedder\"] == embedder]\n",
    "    ax1.plot(subset[\"chunk_size\"], subset[\"time_ms\"], marker=\"o\",linestyle=\"dashed\", label=f\"{embedder}\")\n",
    "\n",
    "ax1.set_yscale(\"log\")\n",
    "ax1.set_xlabel(\"Chunk Size\")\n",
    "ax1.set_ylabel(\"Processing Time (ms) (log scaling)\", color=\"tab:blue\")\n",
    "ax1.legend(loc=\"upper left\", bbox_to_anchor=(1.05, 1))\n",
    "ax1.set_title(\"Processing Time by Embedder\")\n",
    "\n",
    "# memory subplot\n",
    "for embedder in chroma_df[\"embedder\"].unique():\n",
    "    subset = chroma_df[chroma_df[\"embedder\"] == embedder]\n",
    "    ax2.plot(subset[\"chunk_size\"], subset[\"memory_kb\"], marker=\"s\", linestyle=\"dashed\", label=f\"{embedder}\")\n",
    "\n",
    "ax2.set_ylabel(\"Memory Usage (KB)\", color=\"tab:orange\")\n",
    "ax2.legend(loc=\"lower left\", bbox_to_anchor=(1.05, 0))\n",
    "ax2.set_xlabel(\"Chunk Size\")\n",
    "ax2.set_title(\"Memory Usage by Embedder\")\n",
    "\n",
    "plt.savefig('chroma_plot.png')\n",
    "plt.show()\n"
   ]
  },
  {
   "cell_type": "markdown",
   "id": "f58d8a18-f0bd-484f-a02d-1e9a5e2b000f",
   "metadata": {},
   "source": [
    "# FAISS PLOT"
   ]
  },
  {
   "cell_type": "code",
   "execution_count": null,
   "id": "0fbb2338-0929-4a88-b177-582d9cd2d7c4",
   "metadata": {},
   "outputs": [],
   "source": [
    "faiss_df = pd.read_csv(\"faiss_performance.csv\")\n",
    "faiss_df['database'] = 'faiss'"
   ]
  },
  {
   "cell_type": "code",
   "execution_count": null,
   "id": "810d449b-ac1b-4ead-bb31-2955476a7f5b",
   "metadata": {},
   "outputs": [],
   "source": [
    "agg_faiss_df = faiss_df.groupby(['embedder', 'chunk_size', 'overlap']).agg({\n",
    "    'time_ms': 'mean',\n",
    "    'memory_kb': 'mean'\n",
    "}).reset_index()\n",
    "agg_faiss_df = agg_faiss_df.drop(1) # extra row with differing chunk size and overlap\n",
    "agg_faiss_df = agg_faiss_df.reset_index()\n",
    "agg_faiss_df"
   ]
  },
  {
   "cell_type": "code",
   "execution_count": null,
   "id": "991b2cac-f7df-4123-aaa4-e3fc68626db1",
   "metadata": {},
   "outputs": [],
   "source": [
    "# enabling grid\n",
    "sns.set_style(\"whitegrid\")\n",
    "\n",
    "# making plt figure object\n",
    "fig, (ax1, ax2) = plt.subplots(1,2, figsize=(10, 5))\n",
    "\n",
    "plt.subplots_adjust(wspace=.7)\n",
    "# speed subplot\n",
    "for embedder in agg_faiss_df[\"embedder\"].unique():\n",
    "    subset = agg_faiss_df[agg_faiss_df[\"embedder\"] == embedder]\n",
    "    ax1.plot(subset[\"chunk_size\"], subset[\"time_ms\"], marker=\"o\",linestyle=\"dashed\", label=f\"{embedder}\")\n",
    "\n",
    "ax1.set_yscale(\"log\")\n",
    "ax1.set_xlabel(\"Chunk Size\")\n",
    "ax1.set_ylabel(\"Processing Time (ms) (log scaling)\", color=\"tab:blue\")\n",
    "ax1.legend(loc=\"upper left\", bbox_to_anchor=(1.05, 1))\n",
    "ax1.set_title(\"Processing Time by Embedder\")\n",
    "\n",
    "# memory subplot\n",
    "for embedder in agg_faiss_df[\"embedder\"].unique():\n",
    "    subset = agg_faiss_df[agg_faiss_df[\"embedder\"] == embedder]\n",
    "    ax2.plot(subset[\"chunk_size\"], subset[\"memory_kb\"], marker=\"s\", linestyle=\"dashed\", label=f\"{embedder}\")\n",
    "\n",
    "ax2.set_ylabel(\"Memory Usage (KB)\", color=\"tab:orange\")\n",
    "ax2.legend(loc=\"lower left\", bbox_to_anchor=(1.05, 0))\n",
    "ax2.set_xlabel(\"Chunk Size\")\n",
    "ax2.set_title(\"Memory Usage by Embedder\")\n",
    "\n",
    "plt.savefig('faiss_plot.png')\n",
    "plt.show()\n"
   ]
  },
  {
   "cell_type": "markdown",
   "id": "bac469b8-8f49-4d16-b7a8-a5f5d1ec3305",
   "metadata": {},
   "source": [
    "# REDIS PLOT"
   ]
  },
  {
   "cell_type": "code",
   "execution_count": null,
   "id": "6680c631-cf83-4f02-b937-21faa3ae08c9",
   "metadata": {},
   "outputs": [],
   "source": [
    "redis_df = pd.read_csv(\"redis_performance.csv\")\n",
    "redis_df['database'] = 'redis'"
   ]
  },
  {
   "cell_type": "code",
   "execution_count": null,
   "id": "544e6527-e634-4f2e-912e-40d383af10c8",
   "metadata": {},
   "outputs": [],
   "source": [
    "redis_df"
   ]
  },
  {
   "cell_type": "code",
   "execution_count": null,
   "id": "f6e1eb3a-2ea0-40fe-b908-a4cb441c4345",
   "metadata": {},
   "outputs": [],
   "source": [
    "redis_df = redis_df.drop([0, 10, 20]) # removing rows from git merge conflict\n",
    "redis_df"
   ]
  },
  {
   "cell_type": "code",
   "execution_count": null,
   "id": "8aaa03c1-59f9-4a99-9df9-e2e3327d9868",
   "metadata": {},
   "outputs": [],
   "source": [
    "redis_df['embedder'] = redis_df['embedder'].replace('Mini', 'MiniLM') # fixing differing embedder label\n",
    "agg_redis_df = redis_df.groupby(['embedder', 'chunk_size', 'overlap']).agg({\n",
    "    'time_ms': 'mean',\n",
    "    'memory_kb': 'mean'\n",
    "}).reset_index()\n",
    "agg_redis_df"
   ]
  },
  {
   "cell_type": "code",
   "execution_count": null,
   "id": "9ebb95cd-6d1d-44a7-8f9d-56556bdb24cb",
   "metadata": {},
   "outputs": [],
   "source": [
    "# enabling grid\n",
    "sns.set_style(\"whitegrid\")\n",
    "\n",
    "# making plt figure object\n",
    "fig, (ax1, ax2) = plt.subplots(1,2, figsize=(10, 5))\n",
    "\n",
    "plt.subplots_adjust(wspace=.7)\n",
    "# speed subplot\n",
    "for embedder in agg_redis_df[\"embedder\"].unique():\n",
    "    subset = agg_redis_df[agg_redis_df[\"embedder\"] == embedder]\n",
    "    ax1.plot(subset[\"chunk_size\"], subset[\"time_ms\"], marker=\"o\",linestyle=\"dashed\", label=f\"{embedder}\")\n",
    "\n",
    "ax1.set_yscale(\"log\")\n",
    "ax1.set_xlabel(\"Chunk Size\")\n",
    "ax1.set_ylabel(\"Processing Time (ms) (log scaling)\", color=\"tab:blue\")\n",
    "ax1.legend(loc=\"upper left\", bbox_to_anchor=(1.05, 1))\n",
    "ax1.set_title(\"Processing Time by Embedder\")\n",
    "\n",
    "# memory subplot\n",
    "for embedder in agg_redis_df[\"embedder\"].unique():\n",
    "    subset = agg_redis_df[agg_redis_df[\"embedder\"] == embedder]\n",
    "    ax2.plot(subset[\"chunk_size\"], subset[\"memory_kb\"], marker=\"s\", linestyle=\"dashed\", label=f\"{embedder}\")\n",
    "\n",
    "ax2.set_ylabel(\"Memory Usage (KB)\", color=\"tab:orange\")\n",
    "ax2.legend(loc=\"lower left\", bbox_to_anchor=(1.05, 0))\n",
    "ax2.set_xlabel(\"Chunk Size\")\n",
    "ax2.set_title(\"Memory Usage by Embedder\")\n",
    "\n",
    "plt.savefig('redis_plot.png')\n",
    "plt.show()\n"
   ]
  }
 ],
 "metadata": {
  "kernelspec": {
   "display_name": "Python 3 (ipykernel)",
   "language": "python",
   "name": "python3"
  },
  "language_info": {
   "codemirror_mode": {
    "name": "ipython",
    "version": 3
   },
   "file_extension": ".py",
   "mimetype": "text/x-python",
   "name": "python",
   "nbconvert_exporter": "python",
   "pygments_lexer": "ipython3",
   "version": "3.12.6"
  }
 },
 "nbformat": 4,
 "nbformat_minor": 5
}
